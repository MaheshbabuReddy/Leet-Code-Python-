{
 "cells": [
  {
   "cell_type": "code",
   "execution_count": 1,
   "id": "ffa07d92",
   "metadata": {},
   "outputs": [
    {
     "name": "stdout",
     "output_type": "stream",
     "text": [
      "Found 511 images belonging to 32 classes.\n",
      "Found 126 images belonging to 32 classes.\n",
      "Epoch 1/10\n"
     ]
    },
    {
     "name": "stderr",
     "output_type": "stream",
     "text": [
      "C:\\Users\\hp\\AppData\\Roaming\\Python\\Python311\\site-packages\\keras\\src\\trainers\\data_adapters\\py_dataset_adapter.py:120: UserWarning: Your `PyDataset` class should call `super().__init__(**kwargs)` in its constructor. `**kwargs` can include `workers`, `use_multiprocessing`, `max_queue_size`. Do not pass these arguments to `fit()`, as they will be ignored.\n",
      "  self._warn_if_super_not_called()\n"
     ]
    },
    {
     "name": "stdout",
     "output_type": "stream",
     "text": [
      "\u001b[1m15/15\u001b[0m \u001b[32m━━━━━━━━━━━━━━━━━━━━\u001b[0m\u001b[37m\u001b[0m \u001b[1m460s\u001b[0m 20s/step - accuracy: 0.1386 - loss: 3.5032 - val_accuracy: 0.6667 - val_loss: 1.8680\n",
      "Epoch 2/10\n",
      "\u001b[1m 1/15\u001b[0m \u001b[32m━\u001b[0m\u001b[37m━━━━━━━━━━━━━━━━━━━\u001b[0m \u001b[1m1:19\u001b[0m 6s/step - accuracy: 0.4375 - loss: 1.9558"
     ]
    },
    {
     "name": "stderr",
     "output_type": "stream",
     "text": [
      "C:\\ProgramData\\anaconda3\\Lib\\contextlib.py:155: UserWarning: Your input ran out of data; interrupting training. Make sure that your dataset or generator can generate at least `steps_per_epoch * epochs` batches. You may need to use the `.repeat()` function when building your dataset.\n",
      "  self.gen.throw(typ, value, traceback)\n"
     ]
    },
    {
     "name": "stdout",
     "output_type": "stream",
     "text": [
      "\u001b[1m15/15\u001b[0m \u001b[32m━━━━━━━━━━━━━━━━━━━━\u001b[0m\u001b[37m\u001b[0m \u001b[1m23s\u001b[0m 1s/step - accuracy: 0.4375 - loss: 1.0431 - val_accuracy: 0.6667 - val_loss: 0.8498\n",
      "Epoch 3/10\n",
      "\u001b[1m15/15\u001b[0m \u001b[32m━━━━━━━━━━━━━━━━━━━━\u001b[0m\u001b[37m\u001b[0m \u001b[1m335s\u001b[0m 14s/step - accuracy: 0.6366 - loss: 1.3552 - val_accuracy: 0.8125 - val_loss: 1.1744\n",
      "Epoch 4/10\n",
      "\u001b[1m15/15\u001b[0m \u001b[32m━━━━━━━━━━━━━━━━━━━━\u001b[0m\u001b[37m\u001b[0m \u001b[1m23s\u001b[0m 1s/step - accuracy: 0.7812 - loss: 0.4780 - val_accuracy: 0.8333 - val_loss: 0.5072\n",
      "Epoch 5/10\n",
      "\u001b[1m15/15\u001b[0m \u001b[32m━━━━━━━━━━━━━━━━━━━━\u001b[0m\u001b[37m\u001b[0m \u001b[1m350s\u001b[0m 15s/step - accuracy: 0.8300 - loss: 0.7141 - val_accuracy: 0.8125 - val_loss: 0.7109\n",
      "Epoch 6/10\n",
      "\u001b[1m15/15\u001b[0m \u001b[32m━━━━━━━━━━━━━━━━━━━━\u001b[0m\u001b[37m\u001b[0m \u001b[1m29s\u001b[0m 2s/step - accuracy: 0.8438 - loss: 0.2571 - val_accuracy: 0.7333 - val_loss: 0.3867\n",
      "Epoch 7/10\n",
      "\u001b[1m15/15\u001b[0m \u001b[32m━━━━━━━━━━━━━━━━━━━━\u001b[0m\u001b[37m\u001b[0m \u001b[1m338s\u001b[0m 15s/step - accuracy: 0.9061 - loss: 0.4022 - val_accuracy: 0.8750 - val_loss: 0.5238\n",
      "Epoch 8/10\n",
      "\u001b[1m15/15\u001b[0m \u001b[32m━━━━━━━━━━━━━━━━━━━━\u001b[0m\u001b[37m\u001b[0m \u001b[1m22s\u001b[0m 827ms/step - accuracy: 0.9062 - loss: 0.2119 - val_accuracy: 0.9333 - val_loss: 0.1568\n",
      "Epoch 9/10\n",
      "\u001b[1m15/15\u001b[0m \u001b[32m━━━━━━━━━━━━━━━━━━━━\u001b[0m\u001b[37m\u001b[0m \u001b[1m313s\u001b[0m 12s/step - accuracy: 0.9319 - loss: 0.2603 - val_accuracy: 0.8646 - val_loss: 0.4701\n",
      "Epoch 10/10\n",
      "\u001b[1m15/15\u001b[0m \u001b[32m━━━━━━━━━━━━━━━━━━━━\u001b[0m\u001b[37m\u001b[0m \u001b[1m15s\u001b[0m 678ms/step - accuracy: 0.9688 - loss: 0.1300 - val_accuracy: 0.9000 - val_loss: 0.2528\n"
     ]
    },
    {
     "ename": "AttributeError",
     "evalue": "'DirectoryIterator' object has no attribute 'next'",
     "output_type": "error",
     "traceback": [
      "\u001b[1;31m---------------------------------------------------------------------------\u001b[0m",
      "\u001b[1;31mAttributeError\u001b[0m                            Traceback (most recent call last)",
      "Cell \u001b[1;32mIn[1], line 76\u001b[0m\n\u001b[0;32m     68\u001b[0m history \u001b[38;5;241m=\u001b[39m model_densenet\u001b[38;5;241m.\u001b[39mfit(train_generator,\n\u001b[0;32m     69\u001b[0m                              steps_per_epoch\u001b[38;5;241m=\u001b[39mtrain_generator\u001b[38;5;241m.\u001b[39msamples \u001b[38;5;241m/\u001b[39m\u001b[38;5;241m/\u001b[39m train_generator\u001b[38;5;241m.\u001b[39mbatch_size,\n\u001b[0;32m     70\u001b[0m                              validation_data\u001b[38;5;241m=\u001b[39mvalidation_generator,\n\u001b[0;32m     71\u001b[0m                              validation_steps\u001b[38;5;241m=\u001b[39mvalidation_generator\u001b[38;5;241m.\u001b[39msamples \u001b[38;5;241m/\u001b[39m\u001b[38;5;241m/\u001b[39m validation_generator\u001b[38;5;241m.\u001b[39mbatch_size,\n\u001b[0;32m     72\u001b[0m                              epochs\u001b[38;5;241m=\u001b[39m\u001b[38;5;241m10\u001b[39m)\n\u001b[0;32m     74\u001b[0m \u001b[38;5;66;03m# Perform SVM and KNN classification\u001b[39;00m\n\u001b[0;32m     75\u001b[0m \u001b[38;5;66;03m# Get the features and labels for train and validation data from the generators\u001b[39;00m\n\u001b[1;32m---> 76\u001b[0m X_train, y_train \u001b[38;5;241m=\u001b[39m train_generator\u001b[38;5;241m.\u001b[39mnext()\n\u001b[0;32m     77\u001b[0m X_val, y_val \u001b[38;5;241m=\u001b[39m validation_generator\u001b[38;5;241m.\u001b[39mnext()\n\u001b[0;32m     79\u001b[0m \u001b[38;5;66;03m# Reshape the feature data to 2D array\u001b[39;00m\n",
      "\u001b[1;31mAttributeError\u001b[0m: 'DirectoryIterator' object has no attribute 'next'"
     ]
    }
   ],
   "source": [
    "import tensorflow as tf\n",
    "from tensorflow.keras.applications import DenseNet121\n",
    "from tensorflow.keras.layers import Dense, GlobalAveragePooling2D, Dropout\n",
    "from tensorflow.keras.models import Model\n",
    "from tensorflow.keras.optimizers import Adam\n",
    "from tensorflow.keras.preprocessing.image import ImageDataGenerator\n",
    "import matplotlib.pyplot as plt\n",
    "from sklearn.svm import SVC\n",
    "from sklearn.neighbors import KNeighborsClassifier\n",
    "from sklearn.metrics import accuracy_score\n",
    "\n",
    "# Set up data generators with data augmentation\n",
    "train_datagen = ImageDataGenerator(\n",
    "    rescale=1./255,\n",
    "    rotation_range=40,\n",
    "    width_shift_range=0.2,\n",
    "    height_shift_range=0.2,\n",
    "    shear_range=0.2,\n",
    "    zoom_range=0.2,\n",
    "    horizontal_flip=True,\n",
    "    validation_split=0.2\n",
    ")\n",
    "test_datagen = ImageDataGenerator(rescale=1./255)\n",
    "\n",
    "# Define directories for train, validation, and test sets\n",
    "train_dir = 'D:/FolioList/Folio Leaf Dataset/Folio/'\n",
    "validation_dir = 'D:/FolioList/Folio Leaf Dataset/Folio/'\n",
    "test_dir = 'D:/FolioList/Folio Leaf Dataset/Folio/'\n",
    "\n",
    "# Create train and validation generators\n",
    "train_generator = train_datagen.flow_from_directory(\n",
    "    train_dir,\n",
    "    target_size=(224, 224),\n",
    "    batch_size=32,\n",
    "    class_mode='categorical',\n",
    "    subset='training'\n",
    ")\n",
    "\n",
    "validation_generator = train_datagen.flow_from_directory(\n",
    "    validation_dir,\n",
    "    target_size=(224, 224),\n",
    "    batch_size=32,\n",
    "    class_mode='categorical',\n",
    "    subset='validation'\n",
    ")\n",
    "\n",
    "# Load DenseNet121 base model\n",
    "base_model_densenet = DenseNet121(weights='imagenet', include_top=False)\n",
    "\n",
    "# Add custom classification head with dropout\n",
    "x = base_model_densenet.output\n",
    "x = GlobalAveragePooling2D()(x) \n",
    "x = Dense(1024, activation='relu')(x)\n",
    "x = Dropout(0.5)(x)  # Add dropout regularization\n",
    "predictions_densenet = Dense(32, activation='softmax')(x)\n",
    "\n",
    "# Combine base model with custom head\n",
    "model_densenet = Model(inputs=base_model_densenet.input, outputs=predictions_densenet)\n",
    "\n",
    "# Fine-tune some layers of the pre-trained DenseNet121 model\n",
    "for layer in model_densenet.layers[:-10]:\n",
    "    layer.trainable = False\n",
    "\n",
    "# Compile the model\n",
    "model_densenet.compile(optimizer=Adam(learning_rate=0.001), loss='categorical_crossentropy', metrics=['accuracy'])\n",
    "\n",
    "# Train the model\n",
    "history = model_densenet.fit(train_generator,\n",
    "                             steps_per_epoch=train_generator.samples // train_generator.batch_size,\n",
    "                             validation_data=validation_generator,\n",
    "                             validation_steps=validation_generator.samples // validation_generator.batch_size,\n",
    "                             epochs=10)\n",
    "\n",
    "# Perform SVM and KNN classification\n",
    "# Get the features and labels for train and validation data from the generators\n",
    "X_train, y_train = train_generator.next()\n",
    "X_val, y_val = validation_generator.next()\n",
    "\n",
    "# Reshape the feature data to 2D array\n",
    "X_train_flattened = X_train.reshape(X_train.shape[0], -1)\n",
    "X_val_flattened = X_val.reshape(X_val.shape[0], -1)\n",
    "\n",
    "# Support Vector Machine (SVM)\n",
    "svm_classifier = SVC(kernel='linear')\n",
    "svm_classifier.fit(X_train_flattened, y_train)\n",
    "svm_val_predictions = svm_classifier.predict(X_val_flattened)\n",
    "svm_accuracy = accuracy_score(y_val, svm_val_predictions)\n",
    "print(\"SVM Validation Accuracy:\", svm_accuracy)\n",
    "\n",
    "# K-Nearest Neighbors (KNN)\n",
    "knn_classifier = KNeighborsClassifier(n_neighbors=5)\n",
    "knn_classifier.fit(X_train_flattened, y_train)\n",
    "knn_val_predictions = knn_classifier.predict(X_val_flattened)\n",
    "knn_accuracy = accuracy_score(y_val, knn_val_predictions)\n",
    "print(\"KNN Validation Accuracy:\", knn_accuracy)\n",
    "\n",
    "# Plotting accuracies\n",
    "classifiers = ['DenseNet121', 'SVM', 'KNN']\n",
    "accuracies = [history.history['val_accuracy'][-1], svm_accuracy, knn_accuracy]\n",
    "\n",
    "plt.bar(classifiers, accuracies)\n",
    "plt.xlabel('Classifiers')\n",
    "plt.ylabel('Accuracy')\n",
    "plt.title('Comparison of Classifier Accuracies')\n",
    "plt.show()\n",
    "\n",
    "       "
   ]
  },
  {
   "cell_type": "code",
   "execution_count": null,
   "id": "13459006",
   "metadata": {},
   "outputs": [],
   "source": []
  },
  {
   "cell_type": "code",
   "execution_count": null,
   "id": "f63d93f7",
   "metadata": {},
   "outputs": [],
   "source": []
  },
  {
   "cell_type": "code",
   "execution_count": null,
   "id": "2181620f",
   "metadata": {},
   "outputs": [],
   "source": []
  },
  {
   "cell_type": "code",
   "execution_count": null,
   "id": "059e56df",
   "metadata": {},
   "outputs": [],
   "source": []
  }
 ],
 "metadata": {
  "kernelspec": {
   "display_name": "Python 3 (ipykernel)",
   "language": "python",
   "name": "python3"
  },
  "language_info": {
   "codemirror_mode": {
    "name": "ipython",
    "version": 3
   },
   "file_extension": ".py",
   "mimetype": "text/x-python",
   "name": "python",
   "nbconvert_exporter": "python",
   "pygments_lexer": "ipython3",
   "version": "3.11.5"
  }
 },
 "nbformat": 4,
 "nbformat_minor": 5
}
